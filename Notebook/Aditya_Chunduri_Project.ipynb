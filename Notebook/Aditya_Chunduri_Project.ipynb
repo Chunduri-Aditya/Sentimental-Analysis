{
 "cells": [
  {
   "cell_type": "markdown",
   "id": "b0ad01fd",
   "metadata": {},
   "source": [
    "<center><h1>Chunduri_Aditya_Project</h1></center>"
   ]
  },
  {
   "cell_type": "markdown",
   "id": "c1877ff4",
   "metadata": {},
   "source": [
    "Name: Chunduri Aditya\n",
    "<br>\n",
    "Github Username: Chunduri-Aditya\n",
    "<br>\n",
    "USC ID: 8726443356"
   ]
  },
  {
   "cell_type": "code",
   "execution_count": 1,
   "id": "009b1859",
   "metadata": {},
   "outputs": [],
   "source": [
    "import pandas as pd\n",
    "import numpy as np\n",
    "import os\n",
    "import re\n",
    "from tensorflow.keras.preprocessing.text import Tokenizer\n",
    "import matplotlib.pyplot as plt\n",
    "from tensorflow.keras.preprocessing.sequence import pad_sequences\n",
    "from tensorflow.keras.models import Sequential\n",
    "from tensorflow.keras.layers import Embedding, Flatten, Dense, Dropout, Input\n",
    "from tensorflow.keras.optimizers import Adam\n",
    "from tensorflow.keras.layers import Conv1D, MaxPooling1D\n",
    "from tensorflow.keras.layers import LSTM\n",
    "from tensorflow.keras.losses import Loss\n",
    "from tensorflow.keras.regularizers import l2\n",
    "import tensorflow as tf\n",
    "from nltk.corpus import stopwords\n",
    "import warnings\n",
    "warnings.filterwarnings('ignore')"
   ]
  },
  {
   "cell_type": "markdown",
   "id": "f706e0b3",
   "metadata": {},
   "source": [
    "## (a)"
   ]
  },
  {
   "cell_type": "code",
   "execution_count": 2,
   "id": "1cd9dd31",
   "metadata": {},
   "outputs": [],
   "source": [
    "pos_reviews_path = \"Datasets/Project_data/pos/\"\n",
    "neg_reviews_path = \"Datasets/Project_data/neg/\""
   ]
  },
  {
   "cell_type": "markdown",
   "id": "26f65e24",
   "metadata": {},
   "source": [
    "## (b) Data Exploration and Pre-processing"
   ]
  },
  {
   "cell_type": "markdown",
   "id": "2808c441",
   "metadata": {},
   "source": [
    "### (i), (ii), (iii)"
   ]
  },
  {
   "cell_type": "code",
   "execution_count": 3,
   "id": "a0c3d8c5",
   "metadata": {
    "scrolled": true
   },
   "outputs": [],
   "source": [
    "pos_train_data = []\n",
    "pos_test_data = []\n",
    "neg_train_data = []\n",
    "neg_test_data = []\n",
    "\n",
    "stop_words = stopwords.words('english')\n",
    "\n",
    "def clean_text(text):\n",
    "    text = text.lower()  \n",
    "    text = text.replace('\\n', ' ')  \n",
    "    text = re.sub(r'[^\\w\\s]', '', text)  \n",
    "    text = re.sub(r'\\d+', '', text)\n",
    "    text = ' '.join([word for word in text.split() if word not in stop_words])\n",
    "    return text\n",
    "\n",
    "# Positive Reviews\n",
    "for filename in sorted(os.listdir(pos_reviews_path)):\n",
    "    if filename.startswith('cv') and filename.endswith('.txt'):\n",
    "        index = int(re.search(r'\\d+', filename).group()) \n",
    "        with open(os.path.join(pos_reviews_path, filename), 'r', encoding='utf-8') as file:\n",
    "            review = clean_text(file.read())\n",
    "            if index < 700:\n",
    "                pos_train_data.append(review)\n",
    "            else:\n",
    "                pos_test_data.append(review)\n",
    "\n",
    "# Negative Reviews                \n",
    "for filename in sorted(os.listdir(neg_reviews_path)):\n",
    "    if filename.startswith('cv') and filename.endswith('.txt'):\n",
    "        index = int(re.search(r'\\d+', filename).group()) \n",
    "        with open(os.path.join(neg_reviews_path, filename), 'r', encoding='utf-8') as file:\n",
    "            review = clean_text(file.read())\n",
    "            if index < 700:\n",
    "                neg_train_data.append(review)\n",
    "            else:\n",
    "                neg_test_data.append(review)      \n",
    "\n",
    "train_data = pos_train_data + neg_train_data          \n",
    "test_data = pos_test_data + neg_test_data\n",
    "all_review_data = train_data + test_data\n",
    "train_labels = [1] * len(pos_train_data) + [-1] * len(neg_train_data)\n",
    "test_labels = [1] * len(pos_test_data) + [-1] * len(neg_test_data)\n",
    "all_review_labels = train_labels + test_labels"
   ]
  },
  {
   "cell_type": "code",
   "execution_count": 4,
   "id": "a1ca3017",
   "metadata": {
    "scrolled": true
   },
   "outputs": [
    {
     "name": "stdout",
     "output_type": "stream",
     "text": [
      "700 300 700 300\n"
     ]
    }
   ],
   "source": [
    "print(len(pos_train_data),len(pos_test_data),len(neg_train_data),len(neg_test_data))"
   ]
  },
  {
   "cell_type": "markdown",
   "id": "a352b8bd",
   "metadata": {},
   "source": [
    "### (iv)"
   ]
  },
  {
   "cell_type": "code",
   "execution_count": 5,
   "id": "9cd0b97f",
   "metadata": {},
   "outputs": [
    {
     "name": "stdout",
     "output_type": "stream",
     "text": [
      "Number of unique words: 46642\n"
     ]
    }
   ],
   "source": [
    "tokenizer = Tokenizer()\n",
    "tokenizer.fit_on_texts(all_review_data)\n",
    "unique_words = len(tokenizer.word_index)\n",
    "print(f\"Number of unique words: {unique_words}\")"
   ]
  },
  {
   "cell_type": "markdown",
   "id": "7f271dd4",
   "metadata": {},
   "source": [
    "### (v)"
   ]
  },
  {
   "cell_type": "code",
   "execution_count": 6,
   "id": "f7cd8443",
   "metadata": {},
   "outputs": [
    {
     "name": "stdout",
     "output_type": "stream",
     "text": [
      "Average review length: 352.5125\n",
      "Standard deviation of review lengths: 152.23633877543824\n"
     ]
    }
   ],
   "source": [
    "review_lengths = [len(review.split()) for review in all_review_data]\n",
    "avg_review_lengths = np.mean(review_lengths)\n",
    "std_review_lenghts = np.std(review_lengths)\n",
    "\n",
    "print(f'Average review length: {avg_review_lengths}')\n",
    "print(f'Standard deviation of review lengths: {std_review_lenghts}')"
   ]
  },
  {
   "cell_type": "markdown",
   "id": "7491a919",
   "metadata": {},
   "source": [
    "### (vi)"
   ]
  },
  {
   "cell_type": "code",
   "execution_count": 7,
   "id": "7868d61d",
   "metadata": {},
   "outputs": [
    {
     "data": {
      "image/png": "[encoded data removed]",
      "text/plain": [
       "<Figure size 1000x600 with 1 Axes>"
      ]
     },
     "metadata": {},
     "output_type": "display_data"
    }
   ],
   "source": [
    "plt.figure(figsize=(10, 6))\n",
    "plt.hist(review_lengths, bins=50, color='green', edgecolor='black')\n",
    "plt.xlabel('Review Length', fontsize=14)\n",
    "plt.ylabel('Frequency', fontsize=14)\n",
    "plt.title('Histogram of Review Lengths', fontsize=16)\n",
    "plt.grid(True, linestyle='--', alpha=0.7)\n",
    "plt.xticks(fontsize=12)\n",
    "plt.yticks(fontsize=12)\n",
    "plt.show()"
   ]
  },
  {
   "cell_type": "markdown",
   "id": "b7063584",
   "metadata": {},
   "source": [
    "### (vii)"
   ]
  },
  {
   "cell_type": "code",
   "execution_count": 8,
   "id": "294468e9",
   "metadata": {},
   "outputs": [
    {
     "name": "stdout",
     "output_type": "stream",
     "text": [
      "[[9, 2620, 249, 1513, 929, 517, 518, 216, 7534, 592, 4659, 1633, 7131, 1208, 287, 4825, 10708, 1655, 1656, 60, 55, 31, 22, 249, 296, 4, 393, 9844, 738, 1232, 1680, 828, 1392, 763, 3827, 178, 33, 430, 7132, 105, 158, 274, 27196, 84, 1680, 1392, 1759, 27197, 730, 385, 13093, 10, 4, 705, 220, 1111, 2017, 80, 23, 1112, 296, 1429, 413, 4826, 99, 1113, 331, 9138, 85, 20792, 527, 38, 6787, 1, 1985, 14, 294, 178, 249, 296, 83, 127, 92, 42, 6468, 2684, 11802, 764, 2734, 912, 2467, 227, 2467, 510, 1844, 52, 82, 2846, 971, 7994, 357, 19, 131, 27198, 64, 1844, 1, 89, 156, 4504, 519, 22, 880, 918, 578, 1489, 7535, 277, 1141, 892, 795, 4504, 376, 117, 20793, 14845, 3192, 49, 13094, 27199, 134, 20794, 274, 20795, 2017, 14, 23, 3116, 1027, 6788, 13095, 3433, 20796, 7995, 17, 4827, 230, 13096, 414, 27200, 3720, 13097, 60, 65, 1209, 2965, 10709, 20797, 1657, 2735, 2337, 3117, 213, 20797, 10710, 13098, 943, 9139, 258, 17234, 11803, 3434, 20798, 20799, 327, 5870, 20793, 3946, 2018, 275, 893, 1430, 3614, 2685, 84, 70, 3828, 2375, 2736, 4505, 3615, 5, 445, 7996, 118, 4660, 38, 77, 221, 502, 27201, 385, 13093, 391, 45, 11804, 84, 1680, 1392, 1057, 121, 2468, 1553, 395, 913, 3118, 20800, 249, 38, 2424, 27202, 1553, 13093, 1790, 2215, 10711, 11805, 8499, 11806, 17235, 4073, 14846, 20801, 6, 151, 1409, 1589, 620, 49, 81, 136, 6163, 13099, 113, 4661, 1410, 4506, 7133, 14847, 28, 31, 1818, 7134, 9140, 1681, 11802, 209, 27203, 27204, 930, 7536, 284, 1462, 51, 6469, 27205, 53, 787, 14848, 110, 38, 3269, 4216, 21, 150, 18, 1021, 11802, 972, 270, 323, 2376, 65, 1210, 18, 11, 195, 4, 770, 2073, 1, 455, 1411, 142, 52, 4, 2902, 1760, 4074, 416, 348, 196, 3270, 1431, 181, 20802, 2246, 6789, 9141, 1865, 414, 27206, 38, 84, 528, 7997, 3037, 20803, 27207, 1986, 2216, 21, 2966, 866, 37, 3616, 1463, 1791, 2847, 5871, 5, 62, 339, 1, 13100, 1700, 7537, 249, 545, 1761, 722, 4364, 1762, 43, 351, 1412, 230, 106, 27208, 5872, 2, 1323, 134, 5, 109, 393, 701, 9142, 2735, 1554, 4075, 399, 68, 10712, 4507, 844, 1277, 27209, 5873, 358, 17236, 674, 4217, 5212, 14849, 41, 380, 372, 58, 546, 2685, 17237, 17, 7, 2903, 1361, 13101, 396, 2686, 1277, 79, 348, 236, 29, 1, 57, 6, 771, 399, 17238, 3271, 989, 807, 1590], [61, 3, 102, 160, 1393, 796, 61, 7998, 9845, 9846, 546, 185, 5, 796, 1, 161, 2074, 14850, 2788, 9, 3354, 177, 250, 86, 662, 1074, 2338, 2621, 3721, 1591, 338, 2967, 39, 1, 9143, 1490, 2903, 25, 13102, 373, 496, 1724, 5641, 177, 250, 1108, 13103, 5003, 605, 2621, 3721, 20804, 295, 2568, 331, 61, 376, 20, 20, 177, 298, 1074, 2338, 1634, 11807, 1108, 10713, 483, 27210, 5642, 304, 7538, 9847, 919, 2848, 1028, 19, 611, 913, 323, 310, 6790, 517, 1394, 1092, 71, 87, 606, 557, 53, 1324, 5, 5643, 91, 118, 159, 71, 7539, 5874, 1324, 1887, 2737, 7539, 4828, 723, 3354, 6, 1, 301, 2247, 56, 3354, 1395, 1037, 2075, 25, 1029, 4218, 1658, 4829, 558, 1081, 801, 4219, 7540, 5003, 605, 3354, 1119, 2147, 505, 4830, 439, 250, 193, 944, 9848, 4829, 1119, 2147, 505, 4830, 439, 250, 193, 2075, 872, 3354, 710, 271, 1130, 1108, 2075, 872, 4829, 710, 271, 1130, 1108, 5003, 605, 511, 3829, 155, 7135, 1278, 944, 9848, 511, 3829, 155, 7135, 1278, 1180, 3517, 1131, 3354, 1074, 2338, 7999, 14851, 1279, 72, 998, 178, 24, 3355, 5, 72, 9144, 9145, 1180, 3517, 1131, 4829, 694, 2217, 7999, 14851, 1279, 72, 998, 178, 24, 3355, 72, 214, 9144, 20805, 731, 1635, 360, 4829, 413, 3354, 2789, 36, 2075, 25, 746, 137, 9, 157, 5, 2019, 53, 16, 205, 2020, 420, 177, 250, 13104, 1362, 3, 3038, 1363, 6470, 137, 5, 6164, 3354, 3356, 327, 1572, 204, 2338, 3721, 3617, 3193, 1392, 7538, 11808, 919, 13105, 2338, 278, 298, 17239, 73, 6471, 20806, 52, 141, 40, 95, 3721, 3119, 341, 124, 86, 1443, 23, 9146, 175, 3721, 1093, 545, 2021, 11809, 15, 72, 71, 4, 1572, 1325, 20807, 289, 2, 83, 89, 10714, 95, 241, 63, 2147, 904, 3271, 1, 1326, 394, 2788, 9, 524, 189, 1, 312, 625, 11810, 4, 2289, 7541, 20808, 9147, 10715, 4220, 7542, 616, 668, 456, 2182, 5644, 8, 29, 65, 298, 34, 4, 20809, 6165, 1109, 4662, 1253, 27211, 271, 5, 55, 4221, 199, 298, 1279, 55, 112, 4, 3354, 25, 4219, 4829, 27212, 17240, 114, 72, 8000, 20810, 732, 1845]]\n"
     ]
    }
   ],
   "source": [
    "tokenizer = Tokenizer()\n",
    "tokenizer.fit_on_texts(all_review_data)\n",
    "\n",
    "train_sequences = tokenizer.texts_to_sequences(train_data)\n",
    "test_sequences = tokenizer.texts_to_sequences(test_data)\n",
    "\n",
    "print(train_sequences[:2])"
   ]
  },
  {
   "cell_type": "code",
   "execution_count": 9,
   "id": "3468f583",
   "metadata": {},
   "outputs": [
    {
     "name": "stdout",
     "output_type": "stream",
     "text": [
      "Number of unique words: 46642\n",
      "\n",
      "First 10 words in the index: [('film', 1), ('one', 2), ('movie', 3), ('like', 4), ('even', 5), ('good', 6), ('time', 7), ('story', 8), ('films', 9), ('would', 10), ('much', 11), ('also', 12), ('characters', 13), ('get', 14), ('character', 15), ('two', 16), ('first', 17), ('see', 18), ('well', 19), ('way', 20), ('make', 21), ('really', 22), ('little', 23), ('life', 24), ('plot', 25), ('people', 26), ('movies', 27), ('could', 28), ('bad', 29), ('scene', 30), ('never', 31), ('best', 32), ('new', 33), ('doesnt', 34), ('man', 35), ('many', 36), ('scenes', 37), ('dont', 38), ('know', 39), ('hes', 40), ('great', 41), ('another', 42), ('love', 43), ('action', 44), ('go', 45), ('us', 46), ('director', 47), ('something', 48), ('end', 49), ('still', 50), ('back', 51), ('seems', 52), ('made', 53), ('work', 54), ('theres', 55), ('makes', 56), ('however', 57), ('big', 58), ('years', 59), ('world', 60), ('every', 61), ('though', 62), ('seen', 63), ('better', 64), ('enough', 65), ('around', 66), ('take', 67), ('performance', 68), ('audience', 69), ('isnt', 70), ('going', 71), ('gets', 72), ('role', 73), ('real', 74), ('may', 75), ('things', 76), ('think', 77), ('last', 78), ('actually', 79), ('look', 80), ('funny', 81), ('almost', 82), ('thing', 83), ('say', 84), ('nothing', 85), ('comedy', 86), ('fact', 87), ('although', 88), ('thats', 89), ('played', 90), ('right', 91), ('find', 92), ('john', 93), ('come', 94), ('since', 95), ('script', 96), ('cast', 97), ('plays', 98), ('long', 99), ('young', 100)]\n"
     ]
    }
   ],
   "source": [
    "word_index = tokenizer.word_index\n",
    "print(f\"Number of unique words: {len(word_index)}\")\n",
    "print(f\"\\nFirst 10 words in the index: {list(word_index.items())[:100]}\")"
   ]
  },
  {
   "cell_type": "markdown",
   "id": "4c10175b",
   "metadata": {},
   "source": [
    "### (viii), (ix)"
   ]
  },
  {
   "cell_type": "code",
   "execution_count": 10,
   "id": "f975d77a",
   "metadata": {},
   "outputs": [
    {
     "name": "stdout",
     "output_type": "stream",
     "text": [
      "Review length at 70th percentile: 401.0\n",
      "Review length at 90th percentile: 536.0\n"
     ]
    }
   ],
   "source": [
    "L_70 = np.percentile(review_lengths, 70)\n",
    "L_90 = np.percentile(review_lengths, 90)\n",
    "\n",
    "print(f\"Review length at 70th percentile: {L_70}\")\n",
    "print(f\"Review length at 90th percentile: {L_90}\")"
   ]
  },
  {
   "cell_type": "markdown",
   "id": "f07ce9b5",
   "metadata": {},
   "source": [
    "## (c) Work Embeddings"
   ]
  },
  {
   "cell_type": "code",
   "execution_count": 11,
   "id": "bd426825",
   "metadata": {},
   "outputs": [
    {
     "name": "stdout",
     "output_type": "stream",
     "text": [
      "(1400, 536)\n",
      "(600, 536)\n"
     ]
    }
   ],
   "source": [
    "vocab_size = 2500\n",
    "\n",
    "L = int(L_90)\n",
    "\n",
    "tokenizer = Tokenizer(num_words=vocab_size)\n",
    "tokenizer.fit_on_texts(all_review_data)\n",
    "\n",
    "train_sequences = tokenizer.texts_to_sequences(train_data)\n",
    "test_sequences = tokenizer.texts_to_sequences(test_data)\n",
    "\n",
    "train_sequences_padded = pad_sequences(train_sequences, maxlen=L, padding='post', truncating='post')\n",
    "test_sequences_padded = pad_sequences(test_sequences, maxlen=L, padding='post', truncating='post')\n",
    "\n",
    "print(train_sequences_padded.shape)\n",
    "print(test_sequences_padded.shape)"
   ]
  },
  {
   "cell_type": "code",
   "execution_count": 12,
   "id": "05185e2c",
   "metadata": {},
   "outputs": [],
   "source": [
    "class CustomBinaryCrossEntropy(Loss):\n",
    "    def call(self, y_true, y_pred):\n",
    "        y_true = (y_true + 1) / 2\n",
    "        y_true = tf.squeeze(y_true)\n",
    "        y_pred = tf.squeeze(y_pred)\n",
    "        loss = tf.keras.losses.binary_crossentropy(y_true, y_pred)\n",
    "        return loss\n",
    "    \n",
    "def custom_accuracy(y_true, y_pred):\n",
    "    y_true = (y_true + 1) / 2\n",
    "    y_pred = tf.round(y_pred)\n",
    "    y_true = tf.squeeze(y_true)\n",
    "    y_pred = tf.squeeze(y_pred)\n",
    "    accuracy = tf.reduce_mean(tf.cast(tf.equal(tf.cast(y_true, tf.float64), tf.cast(y_pred, tf.float64)), tf.float64))\n",
    "    return accuracy"
   ]
  },
  {
   "cell_type": "code",
   "execution_count": 13,
   "id": "c34e8321",
   "metadata": {
    "scrolled": false
   },
   "outputs": [
    {
     "data": {
      "text/html": [
       "<pre style=\"white-space:pre;overflow-x:auto;line-height:normal;font-family:Menlo,'DejaVu Sans Mono',consolas,'Courier New',monospace\"><span style=\"font-weight: bold\">Model: \"sequential\"</span>\n",
       "</pre>\n"
      ],
      "text/plain": [
       "\u001b[1mModel: \"sequential\"\u001b[0m\n"
      ]
     },
     "metadata": {},
     "output_type": "display_data"
    },
    {
     "data": {
      "text/html": [
       "<pre style=\"white-space:pre;overflow-x:auto;line-height:normal;font-family:Menlo,'DejaVu Sans Mono',consolas,'Courier New',monospace\">┏━━━━━━━━━━━━━━━━━━━━━━━━━━━━━━━━━┳━━━━━━━━━━━━━━━━━━━━━━━━┳━━━━━━━━━━━━━━━┓\n",
       "┃<span style=\"font-weight: bold\"> Layer (type)                    </span>┃<span style=\"font-weight: bold\"> Output Shape           </span>┃<span style=\"font-weight: bold\">       Param # </span>┃\n",
       "┡━━━━━━━━━━━━━━━━━━━━━━━━━━━━━━━━━╇━━━━━━━━━━━━━━━━━━━━━━━━╇━━━━━━━━━━━━━━━┩\n",
       "│ embedding (<span style=\"color: #0087ff; text-decoration-color: #0087ff\">Embedding</span>)           │ (<span style=\"color: #00d7ff; text-decoration-color: #00d7ff\">None</span>, <span style=\"color: #00af00; text-decoration-color: #00af00\">536</span>, <span style=\"color: #00af00; text-decoration-color: #00af00\">32</span>)        │        <span style=\"color: #00af00; text-decoration-color: #00af00\">80,000</span> │\n",
       "├─────────────────────────────────┼────────────────────────┼───────────────┤\n",
       "│ flatten (<span style=\"color: #0087ff; text-decoration-color: #0087ff\">Flatten</span>)               │ (<span style=\"color: #00d7ff; text-decoration-color: #00d7ff\">None</span>, <span style=\"color: #00af00; text-decoration-color: #00af00\">17152</span>)          │             <span style=\"color: #00af00; text-decoration-color: #00af00\">0</span> │\n",
       "└─────────────────────────────────┴────────────────────────┴───────────────┘\n",
       "</pre>\n"
      ],
      "text/plain": [
       "┏━━━━━━━━━━━━━━━━━━━━━━━━━━━━━━━━━┳━━━━━━━━━━━━━━━━━━━━━━━━┳━━━━━━━━━━━━━━━┓\n",
       "┃\u001b[1m \u001b[0m\u001b[1mLayer (type)                   \u001b[0m\u001b[1m \u001b[0m┃\u001b[1m \u001b[0m\u001b[1mOutput Shape          \u001b[0m\u001b[1m \u001b[0m┃\u001b[1m \u001b[0m\u001b[1m      Param #\u001b[0m\u001b[1m \u001b[0m┃\n",
       "┡━━━━━━━━━━━━━━━━━━━━━━━━━━━━━━━━━╇━━━━━━━━━━━━━━━━━━━━━━━━╇━━━━━━━━━━━━━━━┩\n",
       "│ embedding (\u001b[38;5;33mEmbedding\u001b[0m)           │ (\u001b[38;5;45mNone\u001b[0m, \u001b[38;5;34m536\u001b[0m, \u001b[38;5;34m32\u001b[0m)        │        \u001b[38;5;34m80,000\u001b[0m │\n",
       "├─────────────────────────────────┼────────────────────────┼───────────────┤\n",
       "│ flatten (\u001b[38;5;33mFlatten\u001b[0m)               │ (\u001b[38;5;45mNone\u001b[0m, \u001b[38;5;34m17152\u001b[0m)          │             \u001b[38;5;34m0\u001b[0m │\n",
       "└─────────────────────────────────┴────────────────────────┴───────────────┘\n"
      ]
     },
     "metadata": {},
     "output_type": "display_data"
    },
    {
     "data": {
      "text/html": [
       "<pre style=\"white-space:pre;overflow-x:auto;line-height:normal;font-family:Menlo,'DejaVu Sans Mono',consolas,'Courier New',monospace\"><span style=\"font-weight: bold\"> Total params: </span><span style=\"color: #00af00; text-decoration-color: #00af00\">80,000</span> (312.50 KB)\n",
       "</pre>\n"
      ],
      "text/plain": [
       "\u001b[1m Total params: \u001b[0m\u001b[38;5;34m80,000\u001b[0m (312.50 KB)\n"
      ]
     },
     "metadata": {},
     "output_type": "display_data"
    },
    {
     "data": {
      "text/html": [
       "<pre style=\"white-space:pre;overflow-x:auto;line-height:normal;font-family:Menlo,'DejaVu Sans Mono',consolas,'Courier New',monospace\"><span style=\"font-weight: bold\"> Trainable params: </span><span style=\"color: #00af00; text-decoration-color: #00af00\">80,000</span> (312.50 KB)\n",
       "</pre>\n"
      ],
      "text/plain": [
       "\u001b[1m Trainable params: \u001b[0m\u001b[38;5;34m80,000\u001b[0m (312.50 KB)\n"
      ]
     },
     "metadata": {},
     "output_type": "display_data"
    },
    {
     "data": {
      "text/html": [
       "<pre style=\"white-space:pre;overflow-x:auto;line-height:normal;font-family:Menlo,'DejaVu Sans Mono',consolas,'Courier New',monospace\"><span style=\"font-weight: bold\"> Non-trainable params: </span><span style=\"color: #00af00; text-decoration-color: #00af00\">0</span> (0.00 B)\n",
       "</pre>\n"
      ],
      "text/plain": [
       "\u001b[1m Non-trainable params: \u001b[0m\u001b[38;5;34m0\u001b[0m (0.00 B)\n"
      ]
     },
     "metadata": {},
     "output_type": "display_data"
    }
   ],
   "source": [
    "embedding_dim = 32  \n",
    "\n",
    "model = Sequential()\n",
    "model.add(Input(shape=(L,))) \n",
    "model.add(Embedding(input_dim=vocab_size, \n",
    "                    output_dim=embedding_dim, \n",
    "                    embeddings_initializer=\"uniform\", \n",
    "                    mask_zero=False))\n",
    "\n",
    "model.add(Flatten()) \n",
    "\n",
    "model.summary() "
   ]
  },
  {
   "cell_type": "markdown",
   "id": "de112149",
   "metadata": {},
   "source": [
    "## (d)"
   ]
  },
  {
   "cell_type": "code",
   "execution_count": 14,
   "id": "91f383b0",
   "metadata": {
    "scrolled": true
   },
   "outputs": [
    {
     "name": "stdout",
     "output_type": "stream",
     "text": [
      "Epoch 1/2\n",
      "\u001b[1m140/140\u001b[0m \u001b[32m━━━━━━━━━━━━━━━━━━━━\u001b[0m\u001b[37m\u001b[0m \u001b[1m1s\u001b[0m 2ms/step - custom_accuracy: 0.5316 - loss: 0.6921 - val_custom_accuracy: 0.5117 - val_loss: 0.6924\n",
      "Epoch 2/2\n",
      "\u001b[1m140/140\u001b[0m \u001b[32m━━━━━━━━━━━━━━━━━━━━\u001b[0m\u001b[37m\u001b[0m \u001b[1m0s\u001b[0m 3ms/step - custom_accuracy: 0.4923 - loss: 0.6968 - val_custom_accuracy: 0.5350 - val_loss: 0.6926\n",
      "MLP Train Accuracy: 0.4900000989437103\n",
      "MLP Test Accuracy: 0.5349999666213989\n"
     ]
    }
   ],
   "source": [
    "mlp_model = Sequential()\n",
    "mlp_model.add(Input(shape=(L,)))\n",
    "mlp_model.add(Embedding(input_dim=vocab_size, output_dim=embedding_dim, mask_zero=True))\n",
    "mlp_model.add(Flatten())\n",
    "mlp_model.add(Dense(50, activation='relu'))\n",
    "mlp_model.add(Dropout(0.2))\n",
    "mlp_model.add(Dense(50, activation='relu'))\n",
    "mlp_model.add(Dropout(0.5))\n",
    "mlp_model.add(Dense(50, activation='relu'))\n",
    "mlp_model.add(Dropout(0.5))\n",
    "mlp_model.add(Dense(1, activation='sigmoid'))\n",
    "\n",
    "mlp_model.compile(optimizer=Adam(learning_rate=0.0001), loss=CustomBinaryCrossEntropy(), metrics=[custom_accuracy])\n",
    "\n",
    "mlp_history = mlp_model.fit(np.array(train_sequences_padded), np.array(train_labels), \n",
    "                            epochs=2, batch_size=10, validation_data=(np.array(test_sequences_padded), np.array(test_labels)))\n",
    "\n",
    "mlp_train_acc = mlp_history.history['custom_accuracy'][-1]\n",
    "mlp_test_acc = mlp_history.history['val_custom_accuracy'][-1]\n",
    "print(f\"MLP Train Accuracy: {mlp_train_acc}\")\n",
    "print(f\"MLP Test Accuracy: {mlp_test_acc}\")"
   ]
  },
  {
   "cell_type": "markdown",
   "id": "6d74791a",
   "metadata": {},
   "source": [
    "## (e)"
   ]
  },
  {
   "cell_type": "code",
   "execution_count": 15,
   "id": "2cf13dad",
   "metadata": {
    "scrolled": true
   },
   "outputs": [
    {
     "name": "stdout",
     "output_type": "stream",
     "text": [
      "Epoch 1/2\n",
      "\u001b[1m140/140\u001b[0m \u001b[32m━━━━━━━━━━━━━━━━━━━━\u001b[0m\u001b[37m\u001b[0m \u001b[1m1s\u001b[0m 3ms/step - custom_accuracy: 0.5004 - loss: 0.6989 - val_custom_accuracy: 0.5233 - val_loss: 0.6921\n",
      "Epoch 2/2\n",
      "\u001b[1m140/140\u001b[0m \u001b[32m━━━━━━━━━━━━━━━━━━━━\u001b[0m\u001b[37m\u001b[0m \u001b[1m0s\u001b[0m 3ms/step - custom_accuracy: 0.5504 - loss: 0.6864 - val_custom_accuracy: 0.6767 - val_loss: 0.6571\n",
      "CNN Train Accuracy: 0.5585715174674988\n",
      "CNN Test Accuracy: 0.6766666173934937\n"
     ]
    }
   ],
   "source": [
    "cnn_model = Sequential()\n",
    "cnn_model.add(Input(shape=(L,)))\n",
    "cnn_model.add(Embedding(input_dim=vocab_size, output_dim=embedding_dim, mask_zero=True))\n",
    "cnn_model.add(Conv1D(32, 3, activation='relu'))\n",
    "cnn_model.add(MaxPooling1D(2))\n",
    "cnn_model.add(Flatten())\n",
    "cnn_model.add(Dense(50, activation='relu'))\n",
    "cnn_model.add(Dropout(0.2))\n",
    "cnn_model.add(Dense(50, activation='relu'))\n",
    "cnn_model.add(Dropout(0.5))\n",
    "cnn_model.add(Dense(50, activation='relu'))\n",
    "cnn_model.add(Dropout(0.5))\n",
    "cnn_model.add(Dense(1, activation='sigmoid'))\n",
    "\n",
    "cnn_model.compile(optimizer=Adam(), loss=CustomBinaryCrossEntropy(), metrics=[custom_accuracy])\n",
    "\n",
    "cnn_history = cnn_model.fit(np.array(train_sequences_padded), np.array(train_labels), \n",
    "                            epochs=2, batch_size=10, validation_data=(np.array(test_sequences_padded), np.array(test_labels)))\n",
    "\n",
    "cnn_train_acc = cnn_history.history['custom_accuracy'][-1]\n",
    "cnn_test_acc = cnn_history.history['val_custom_accuracy'][-1]\n",
    "print(f\"CNN Train Accuracy: {cnn_train_acc}\")\n",
    "print(f\"CNN Test Accuracy: {cnn_test_acc}\")\n"
   ]
  },
  {
   "cell_type": "markdown",
   "id": "643901da",
   "metadata": {},
   "source": [
    "## (f)"
   ]
  },
  {
   "cell_type": "code",
   "execution_count": 16,
   "id": "c975f6bc",
   "metadata": {
    "scrolled": false
   },
   "outputs": [
    {
     "name": "stdout",
     "output_type": "stream",
     "text": [
      "Epoch 1/20\n",
      "\u001b[1m140/140\u001b[0m \u001b[32m━━━━━━━━━━━━━━━━━━━━\u001b[0m\u001b[37m\u001b[0m \u001b[1m7s\u001b[0m 43ms/step - custom_accuracy: 0.5177 - loss: 0.7007 - val_custom_accuracy: 0.5283 - val_loss: 0.6780\n",
      "Epoch 2/20\n",
      "\u001b[1m140/140\u001b[0m \u001b[32m━━━━━━━━━━━━━━━━━━━━\u001b[0m\u001b[37m\u001b[0m \u001b[1m6s\u001b[0m 43ms/step - custom_accuracy: 0.6770 - loss: 0.6236 - val_custom_accuracy: 0.5133 - val_loss: 0.6952\n",
      "Epoch 3/20\n",
      "\u001b[1m140/140\u001b[0m \u001b[32m━━━━━━━━━━━━━━━━━━━━\u001b[0m\u001b[37m\u001b[0m \u001b[1m6s\u001b[0m 43ms/step - custom_accuracy: 0.6386 - loss: 0.6393 - val_custom_accuracy: 0.6217 - val_loss: 0.6458\n",
      "Epoch 4/20\n",
      "\u001b[1m140/140\u001b[0m \u001b[32m━━━━━━━━━━━━━━━━━━━━\u001b[0m\u001b[37m\u001b[0m \u001b[1m6s\u001b[0m 43ms/step - custom_accuracy: 0.7085 - loss: 0.6071 - val_custom_accuracy: 0.6133 - val_loss: 0.6607\n",
      "Epoch 5/20\n",
      "\u001b[1m140/140\u001b[0m \u001b[32m━━━━━━━━━━━━━━━━━━━━\u001b[0m\u001b[37m\u001b[0m \u001b[1m6s\u001b[0m 43ms/step - custom_accuracy: 0.6629 - loss: 0.6067 - val_custom_accuracy: 0.6417 - val_loss: 0.6415\n",
      "Epoch 6/20\n",
      "\u001b[1m140/140\u001b[0m \u001b[32m━━━━━━━━━━━━━━━━━━━━\u001b[0m\u001b[37m\u001b[0m \u001b[1m6s\u001b[0m 43ms/step - custom_accuracy: 0.7235 - loss: 0.5847 - val_custom_accuracy: 0.6433 - val_loss: 0.6360\n",
      "Epoch 7/20\n",
      "\u001b[1m140/140\u001b[0m \u001b[32m━━━━━━━━━━━━━━━━━━━━\u001b[0m\u001b[37m\u001b[0m \u001b[1m6s\u001b[0m 44ms/step - custom_accuracy: 0.7011 - loss: 0.5954 - val_custom_accuracy: 0.5000 - val_loss: 0.6981\n",
      "Epoch 8/20\n",
      "\u001b[1m140/140\u001b[0m \u001b[32m━━━━━━━━━━━━━━━━━━━━\u001b[0m\u001b[37m\u001b[0m \u001b[1m6s\u001b[0m 44ms/step - custom_accuracy: 0.6065 - loss: 0.6581 - val_custom_accuracy: 0.6450 - val_loss: 0.6519\n",
      "Epoch 9/20\n",
      "\u001b[1m140/140\u001b[0m \u001b[32m━━━━━━━━━━━━━━━━━━━━\u001b[0m\u001b[37m\u001b[0m \u001b[1m6s\u001b[0m 44ms/step - custom_accuracy: 0.7128 - loss: 0.5720 - val_custom_accuracy: 0.7100 - val_loss: 0.5677\n",
      "Epoch 10/20\n",
      "\u001b[1m140/140\u001b[0m \u001b[32m━━━━━━━━━━━━━━━━━━━━\u001b[0m\u001b[37m\u001b[0m \u001b[1m6s\u001b[0m 44ms/step - custom_accuracy: 0.6888 - loss: 0.6239 - val_custom_accuracy: 0.6050 - val_loss: 0.6495\n",
      "Epoch 11/20\n",
      "\u001b[1m140/140\u001b[0m \u001b[32m━━━━━━━━━━━━━━━━━━━━\u001b[0m\u001b[37m\u001b[0m \u001b[1m6s\u001b[0m 44ms/step - custom_accuracy: 0.7285 - loss: 0.5309 - val_custom_accuracy: 0.5967 - val_loss: 0.6309\n",
      "Epoch 12/20\n",
      "\u001b[1m140/140\u001b[0m \u001b[32m━━━━━━━━━━━━━━━━━━━━\u001b[0m\u001b[37m\u001b[0m \u001b[1m6s\u001b[0m 44ms/step - custom_accuracy: 0.7511 - loss: 0.5430 - val_custom_accuracy: 0.6667 - val_loss: 0.6196\n",
      "Epoch 13/20\n",
      "\u001b[1m140/140\u001b[0m \u001b[32m━━━━━━━━━━━━━━━━━━━━\u001b[0m\u001b[37m\u001b[0m \u001b[1m6s\u001b[0m 44ms/step - custom_accuracy: 0.7918 - loss: 0.4753 - val_custom_accuracy: 0.6783 - val_loss: 0.6498\n",
      "Epoch 14/20\n",
      "\u001b[1m140/140\u001b[0m \u001b[32m━━━━━━━━━━━━━━━━━━━━\u001b[0m\u001b[37m\u001b[0m \u001b[1m6s\u001b[0m 44ms/step - custom_accuracy: 0.7795 - loss: 0.4933 - val_custom_accuracy: 0.7833 - val_loss: 0.4747\n",
      "Epoch 15/20\n",
      "\u001b[1m140/140\u001b[0m \u001b[32m━━━━━━━━━━━━━━━━━━━━\u001b[0m\u001b[37m\u001b[0m \u001b[1m6s\u001b[0m 44ms/step - custom_accuracy: 0.7967 - loss: 0.4529 - val_custom_accuracy: 0.7750 - val_loss: 0.4641\n",
      "Epoch 16/20\n",
      "\u001b[1m140/140\u001b[0m \u001b[32m━━━━━━━━━━━━━━━━━━━━\u001b[0m\u001b[37m\u001b[0m \u001b[1m6s\u001b[0m 44ms/step - custom_accuracy: 0.8080 - loss: 0.4249 - val_custom_accuracy: 0.7767 - val_loss: 0.4914\n",
      "Epoch 17/20\n",
      "\u001b[1m140/140\u001b[0m \u001b[32m━━━━━━━━━━━━━━━━━━━━\u001b[0m\u001b[37m\u001b[0m \u001b[1m6s\u001b[0m 44ms/step - custom_accuracy: 0.8094 - loss: 0.4278 - val_custom_accuracy: 0.7700 - val_loss: 0.4839\n",
      "Epoch 18/20\n",
      "\u001b[1m140/140\u001b[0m \u001b[32m━━━━━━━━━━━━━━━━━━━━\u001b[0m\u001b[37m\u001b[0m \u001b[1m6s\u001b[0m 44ms/step - custom_accuracy: 0.8407 - loss: 0.3820 - val_custom_accuracy: 0.7950 - val_loss: 0.4442\n",
      "Epoch 19/20\n",
      "\u001b[1m140/140\u001b[0m \u001b[32m━━━━━━━━━━━━━━━━━━━━\u001b[0m\u001b[37m\u001b[0m \u001b[1m6s\u001b[0m 45ms/step - custom_accuracy: 0.8495 - loss: 0.3592 - val_custom_accuracy: 0.7583 - val_loss: 0.4995\n",
      "Epoch 20/20\n",
      "\u001b[1m140/140\u001b[0m \u001b[32m━━━━━━━━━━━━━━━━━━━━\u001b[0m\u001b[37m\u001b[0m \u001b[1m6s\u001b[0m 44ms/step - custom_accuracy: 0.8368 - loss: 0.4035 - val_custom_accuracy: 0.7950 - val_loss: 0.4792\n",
      "LSTM Train Accuracy: 0.802142858505249\n",
      "LSTM Test Accuracy: 0.7949999570846558\n"
     ]
    }
   ],
   "source": [
    "lstm_model = Sequential()\n",
    "lstm_model.add(Input(shape=(L,)))\n",
    "lstm_model.add(Embedding(input_dim=vocab_size, output_dim=embedding_dim, mask_zero=True, embeddings_regularizer='L1L2', embeddings_constraint='MaxNorm'))\n",
    "lstm_model.add(LSTM(32, dropout=0.2,recurrent_dropout=0.2))\n",
    "lstm_model.add(Dense(256, activation='relu'))\n",
    "lstm_model.add(Dropout(0.2))\n",
    "lstm_model.add(Dense(1, activation='sigmoid'))\n",
    "\n",
    "lstm_model.compile(optimizer=Adam(learning_rate=0.01), loss=CustomBinaryCrossEntropy(), metrics=[custom_accuracy])\n",
    "\n",
    "lstm_history = lstm_model.fit(np.array(train_sequences_padded), np.array(train_labels), \n",
    "                              epochs=20, batch_size=10, validation_data=(np.array(test_sequences_padded), np.array(test_labels)))\n",
    "\n",
    "lstm_train_acc = lstm_history.history['custom_accuracy'][-1]\n",
    "lstm_test_acc = lstm_history.history['val_custom_accuracy'][-1]\n",
    "print(f\"LSTM Train Accuracy: {lstm_train_acc}\")\n",
    "print(f\"LSTM Test Accuracy: {lstm_test_acc}\")"
   ]
  },
  {
   "cell_type": "markdown",
   "id": "324c7c7d",
   "metadata": {},
   "source": [
    "## References"
   ]
  },
  {
   "cell_type": "markdown",
   "id": "2f28c321",
   "metadata": {},
   "source": [
    "1) https://stackoverflow.com/questions/72680903/in-keras-tensorflow-how-to-make-a-custom-metric-of-truepositives-minus-falsepos\n",
    "2) https://keras.io/api/layers/core_layers/embedding/\n",
    "3) https://stackoverflow.com/questions/45649520/explain-with-example-how-embedding-layers-in-keras-works\n",
    "4) https://towardsdatascience.com/sentiment-analysis-with-python-part-2-4f71e7bde59a\n",
    "5) https://www.tensorflow.org/api_docs/python/tf/keras/constraints\n",
    "6) https://github.com/tensorflow/tensorflow/blob/master/tensorflow/python/keras/metrics.py\n",
    "7) https://stackoverflow.com/questions/72680903/in-keras-tensorflow-how-to-make-a-custom-metric-of-truepositives-minus-falsepos"
   ]
  },
  {
   "cell_type": "code",
   "execution_count": null,
   "id": "2d9e35ba",
   "metadata": {},
   "outputs": [],
   "source": []
  }
 ],
 "metadata": {
  "kernelspec": {
   "display_name": "Python 3 (ipykernel)",
   "language": "python",
   "name": "python3"
  },
  "language_info": {
   "codemirror_mode": {
    "name": "ipython",
    "version": 3
   },
   "file_extension": ".py",
   "mimetype": "text/x-python",
   "name": "python",
   "nbconvert_exporter": "python",
   "pygments_lexer": "ipython3",
   "version": "3.11.5"
  }
 },
 "nbformat": 4,
 "nbformat_minor": 5
}
